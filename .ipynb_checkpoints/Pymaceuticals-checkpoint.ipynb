{
 "cells": [
  {
   "cell_type": "code",
   "execution_count": 1,
   "metadata": {},
   "outputs": [],
   "source": [
    "#Observations/inferences from data analysis\n",
    "\n",
    "#Capomulin and Ramicane had more data points in the study than the other drug regimens\n",
    "#For mice treated with Capomulin, there is a positive correlation between the weight of the mice and the average tumor volume\n",
    "#The median of final tumor volume for Capomulin and Ramicane (approximately 46 (mm3)) was lower than the median of final tumor volume for Infubinol or Ceftamin (approximately 60 (mm3))\n",
    "#The final tumor volume interquartile range for Capomulin (2 mm3) and Ramicane (1 mm3) was much smaller than the interquartile range for Infubinol (11 mm3) or Ceftamin (16 mm3)\n"
   ]
  },
  {
   "cell_type": "code",
   "execution_count": 2,
   "metadata": {},
   "outputs": [
    {
     "data": {
      "text/html": [
       "<div>\n",
       "<style scoped>\n",
       "    .dataframe tbody tr th:only-of-type {\n",
       "        vertical-align: middle;\n",
       "    }\n",
       "\n",
       "    .dataframe tbody tr th {\n",
       "        vertical-align: top;\n",
       "    }\n",
       "\n",
       "    .dataframe thead th {\n",
       "        text-align: right;\n",
       "    }\n",
       "</style>\n",
       "<table border=\"1\" class=\"dataframe\">\n",
       "  <thead>\n",
       "    <tr style=\"text-align: right;\">\n",
       "      <th></th>\n",
       "      <th>Mouse ID</th>\n",
       "      <th>Drug Regimen</th>\n",
       "      <th>Sex</th>\n",
       "      <th>Age_months</th>\n",
       "      <th>Weight (g)</th>\n",
       "      <th>Timepoint</th>\n",
       "      <th>Tumor Volume (mm3)</th>\n",
       "      <th>Metastatic Sites</th>\n",
       "    </tr>\n",
       "  </thead>\n",
       "  <tbody>\n",
       "    <tr>\n",
       "      <td>0</td>\n",
       "      <td>k403</td>\n",
       "      <td>Ramicane</td>\n",
       "      <td>Male</td>\n",
       "      <td>21</td>\n",
       "      <td>16</td>\n",
       "      <td>0</td>\n",
       "      <td>45.000000</td>\n",
       "      <td>0</td>\n",
       "    </tr>\n",
       "    <tr>\n",
       "      <td>1</td>\n",
       "      <td>k403</td>\n",
       "      <td>Ramicane</td>\n",
       "      <td>Male</td>\n",
       "      <td>21</td>\n",
       "      <td>16</td>\n",
       "      <td>5</td>\n",
       "      <td>38.825898</td>\n",
       "      <td>0</td>\n",
       "    </tr>\n",
       "    <tr>\n",
       "      <td>2</td>\n",
       "      <td>k403</td>\n",
       "      <td>Ramicane</td>\n",
       "      <td>Male</td>\n",
       "      <td>21</td>\n",
       "      <td>16</td>\n",
       "      <td>10</td>\n",
       "      <td>35.014271</td>\n",
       "      <td>1</td>\n",
       "    </tr>\n",
       "    <tr>\n",
       "      <td>3</td>\n",
       "      <td>k403</td>\n",
       "      <td>Ramicane</td>\n",
       "      <td>Male</td>\n",
       "      <td>21</td>\n",
       "      <td>16</td>\n",
       "      <td>15</td>\n",
       "      <td>34.223992</td>\n",
       "      <td>1</td>\n",
       "    </tr>\n",
       "    <tr>\n",
       "      <td>4</td>\n",
       "      <td>k403</td>\n",
       "      <td>Ramicane</td>\n",
       "      <td>Male</td>\n",
       "      <td>21</td>\n",
       "      <td>16</td>\n",
       "      <td>20</td>\n",
       "      <td>32.997729</td>\n",
       "      <td>1</td>\n",
       "    </tr>\n",
       "  </tbody>\n",
       "</table>\n",
       "</div>"
      ],
      "text/plain": [
       "  Mouse ID Drug Regimen   Sex  Age_months  Weight (g)  Timepoint  \\\n",
       "0     k403     Ramicane  Male          21          16          0   \n",
       "1     k403     Ramicane  Male          21          16          5   \n",
       "2     k403     Ramicane  Male          21          16         10   \n",
       "3     k403     Ramicane  Male          21          16         15   \n",
       "4     k403     Ramicane  Male          21          16         20   \n",
       "\n",
       "   Tumor Volume (mm3)  Metastatic Sites  \n",
       "0           45.000000                 0  \n",
       "1           38.825898                 0  \n",
       "2           35.014271                 1  \n",
       "3           34.223992                 1  \n",
       "4           32.997729                 1  "
      ]
     },
     "execution_count": 2,
     "metadata": {},
     "output_type": "execute_result"
    }
   ],
   "source": [
    "# Dependencies and Setup\n",
    "import matplotlib.pyplot as plt\n",
    "import pandas as pd\n",
    "import scipy.stats as st\n",
    "import numpy as np\n",
    "from scipy.stats import linregress\n",
    "\n",
    "# Study data files\n",
    "mouse_metadata = \"Mouse_metadata.csv\"\n",
    "study_results = \"Study_results.csv\"\n",
    "\n",
    "# Read the mouse data and the study results\n",
    "mouse_metadata = pd.read_csv(mouse_metadata)\n",
    "study_results = pd.read_csv(study_results)\n",
    "\n",
    "# Combine the data into a single dataset\n",
    "mouse_data_complete_df = pd.merge(mouse_metadata, study_results, how=\"left\", on=[\"Mouse ID\", \"Mouse ID\"])\n",
    "mouse_data_complete_df.head()"
   ]
  },
  {
   "cell_type": "code",
   "execution_count": 3,
   "metadata": {},
   "outputs": [
    {
     "data": {
      "text/html": [
       "<div>\n",
       "<style scoped>\n",
       "    .dataframe tbody tr th:only-of-type {\n",
       "        vertical-align: middle;\n",
       "    }\n",
       "\n",
       "    .dataframe tbody tr th {\n",
       "        vertical-align: top;\n",
       "    }\n",
       "\n",
       "    .dataframe thead th {\n",
       "        text-align: right;\n",
       "    }\n",
       "</style>\n",
       "<table border=\"1\" class=\"dataframe\">\n",
       "  <thead>\n",
       "    <tr style=\"text-align: right;\">\n",
       "      <th></th>\n",
       "      <th>Tumor Volume Mean</th>\n",
       "      <th>Tumor Volume Median</th>\n",
       "      <th>Tumor Volume Variance</th>\n",
       "      <th>Tumor Volume Standard Deviation</th>\n",
       "      <th>Tumor Volume SEM</th>\n",
       "    </tr>\n",
       "    <tr>\n",
       "      <th>Drug Regimen</th>\n",
       "      <th></th>\n",
       "      <th></th>\n",
       "      <th></th>\n",
       "      <th></th>\n",
       "      <th></th>\n",
       "    </tr>\n",
       "  </thead>\n",
       "  <tbody>\n",
       "    <tr>\n",
       "      <td>Capomulin</td>\n",
       "      <td>40.675741</td>\n",
       "      <td>41.557809</td>\n",
       "      <td>24.947764</td>\n",
       "      <td>4.994774</td>\n",
       "      <td>0.329346</td>\n",
       "    </tr>\n",
       "    <tr>\n",
       "      <td>Ceftamin</td>\n",
       "      <td>52.591172</td>\n",
       "      <td>51.776157</td>\n",
       "      <td>39.290177</td>\n",
       "      <td>6.268188</td>\n",
       "      <td>0.469821</td>\n",
       "    </tr>\n",
       "    <tr>\n",
       "      <td>Infubinol</td>\n",
       "      <td>52.884795</td>\n",
       "      <td>51.820584</td>\n",
       "      <td>43.128684</td>\n",
       "      <td>6.567243</td>\n",
       "      <td>0.492236</td>\n",
       "    </tr>\n",
       "    <tr>\n",
       "      <td>Ketapril</td>\n",
       "      <td>55.235638</td>\n",
       "      <td>53.698743</td>\n",
       "      <td>68.553577</td>\n",
       "      <td>8.279709</td>\n",
       "      <td>0.603860</td>\n",
       "    </tr>\n",
       "    <tr>\n",
       "      <td>Naftisol</td>\n",
       "      <td>54.331565</td>\n",
       "      <td>52.509285</td>\n",
       "      <td>66.173479</td>\n",
       "      <td>8.134708</td>\n",
       "      <td>0.596466</td>\n",
       "    </tr>\n",
       "    <tr>\n",
       "      <td>Placebo</td>\n",
       "      <td>54.033581</td>\n",
       "      <td>52.288934</td>\n",
       "      <td>61.168083</td>\n",
       "      <td>7.821003</td>\n",
       "      <td>0.581331</td>\n",
       "    </tr>\n",
       "    <tr>\n",
       "      <td>Propriva</td>\n",
       "      <td>52.322552</td>\n",
       "      <td>50.854632</td>\n",
       "      <td>42.351070</td>\n",
       "      <td>6.507770</td>\n",
       "      <td>0.512884</td>\n",
       "    </tr>\n",
       "    <tr>\n",
       "      <td>Ramicane</td>\n",
       "      <td>40.216745</td>\n",
       "      <td>40.673236</td>\n",
       "      <td>23.486704</td>\n",
       "      <td>4.846308</td>\n",
       "      <td>0.320955</td>\n",
       "    </tr>\n",
       "    <tr>\n",
       "      <td>Stelasyn</td>\n",
       "      <td>54.233149</td>\n",
       "      <td>52.431737</td>\n",
       "      <td>59.450562</td>\n",
       "      <td>7.710419</td>\n",
       "      <td>0.573111</td>\n",
       "    </tr>\n",
       "    <tr>\n",
       "      <td>Zoniferol</td>\n",
       "      <td>53.236507</td>\n",
       "      <td>51.818479</td>\n",
       "      <td>48.533355</td>\n",
       "      <td>6.966589</td>\n",
       "      <td>0.516398</td>\n",
       "    </tr>\n",
       "  </tbody>\n",
       "</table>\n",
       "</div>"
      ],
      "text/plain": [
       "              Tumor Volume Mean  Tumor Volume Median  Tumor Volume Variance  \\\n",
       "Drug Regimen                                                                  \n",
       "Capomulin             40.675741            41.557809              24.947764   \n",
       "Ceftamin              52.591172            51.776157              39.290177   \n",
       "Infubinol             52.884795            51.820584              43.128684   \n",
       "Ketapril              55.235638            53.698743              68.553577   \n",
       "Naftisol              54.331565            52.509285              66.173479   \n",
       "Placebo               54.033581            52.288934              61.168083   \n",
       "Propriva              52.322552            50.854632              42.351070   \n",
       "Ramicane              40.216745            40.673236              23.486704   \n",
       "Stelasyn              54.233149            52.431737              59.450562   \n",
       "Zoniferol             53.236507            51.818479              48.533355   \n",
       "\n",
       "              Tumor Volume Standard Deviation  Tumor Volume SEM  \n",
       "Drug Regimen                                                     \n",
       "Capomulin                            4.994774          0.329346  \n",
       "Ceftamin                             6.268188          0.469821  \n",
       "Infubinol                            6.567243          0.492236  \n",
       "Ketapril                             8.279709          0.603860  \n",
       "Naftisol                             8.134708          0.596466  \n",
       "Placebo                              7.821003          0.581331  \n",
       "Propriva                             6.507770          0.512884  \n",
       "Ramicane                             4.846308          0.320955  \n",
       "Stelasyn                             7.710419          0.573111  \n",
       "Zoniferol                            6.966589          0.516398  "
      ]
     },
     "execution_count": 3,
     "metadata": {},
     "output_type": "execute_result"
    }
   ],
   "source": [
    "# Generate a summary statistics table of mean, median, variance, standard deviation, and SEM of the tumor volume for each regimen\n",
    "\n",
    "\n",
    "regimen_df = mouse_data_complete_df.groupby(['Drug Regimen'])\n",
    "tumor_df = regimen_df.mean()\n",
    "\n",
    "regimen_tumorvolume_median = regimen_df[\"Tumor Volume (mm3)\"].median()\n",
    "regimen_tumorvolume_var = regimen_df[\"Tumor Volume (mm3)\"].var()\n",
    "regimen_tumorvolume_stdev = regimen_df[\"Tumor Volume (mm3)\"].std()\n",
    "regimen_tumorvolume_sem = regimen_df[\"Tumor Volume (mm3)\"].sem()\n",
    "\n",
    "regimen_tumorvolume_summary_df = tumor_df.drop([\"Age_months\", \"Timepoint\", \"Weight (g)\", \"Metastatic Sites\"], axis = 1)\n",
    "\n",
    "regimen_tumorvolume_summary_df[\"Tumor Volume Median\"] = regimen_tumorvolume_median\n",
    "regimen_tumorvolume_summary_df[\"Tumor Volume Variance\"] = regimen_tumorvolume_var\n",
    "regimen_tumorvolume_summary_df[\"Tumor Volume Standard Deviation\"] = regimen_tumorvolume_stdev\n",
    "regimen_tumorvolume_summary_df[\"Tumor Volume SEM\"] = regimen_tumorvolume_sem\n",
    "\n",
    "regimen_tumorvolume_summary_df.rename(columns = {\"Tumor Volume (mm3)\" : \"Tumor Volume Mean\"}, inplace=True)\n",
    "\n",
    "regimen_tumorvolume_summary_df"
   ]
  },
  {
   "cell_type": "code",
   "execution_count": 4,
   "metadata": {},
   "outputs": [
    {
     "data": {
      "image/png": "[encoded data removed]",
      "text/plain": [
       "<Figure size 432x288 with 1 Axes>"
      ]
     },
     "metadata": {
      "needs_background": "light"
     },
     "output_type": "display_data"
    }
   ],
   "source": [
    "# Generate a bar plot showing number of data points for each treatment regimen using pandas\n",
    "\n",
    "timepoint = regimen_df [\"Timepoint\"].count()\n",
    "timepoint.plot.bar()\n",
    "plt.title('Data Points for Each Treatment Regimen')\n",
    "plt.ylabel('Number of Data Points')\n",
    "plt.show()\n"
   ]
  },
  {
   "cell_type": "code",
   "execution_count": 5,
   "metadata": {},
   "outputs": [
    {
     "data": {
      "text/plain": [
       "Text(0, 0.5, 'Number of Datapoints')"
      ]
     },
     "execution_count": 5,
     "metadata": {},
     "output_type": "execute_result"
    },
    {
     "data": {
      "image/png": "[encoded data removed]",
      "text/plain": [
       "<Figure size 432x288 with 1 Axes>"
      ]
     },
     "metadata": {
      "needs_background": "light"
     },
     "output_type": "display_data"
    }
   ],
   "source": [
    "# Generate a bar plot showing number of data points for each treatment regimen using pyplot\n",
    "regimen = regimen_df[\"Drug Regimen\"].unique()\n",
    "datapoints = regimen_df[\"Mouse ID\"].count()\n",
    "x_axis = np.arange(len(datapoints))\n",
    "plt.bar(x_axis, datapoints, color=\"b\", align=\"center\")\n",
    "plt.title(\"Data Points for Each Drug Regimen\")\n",
    "plt.xlabel(\"Treatment Regimen\")\n",
    "plt.ylabel(\"Number of Datapoints\")\n"
   ]
  },
  {
   "cell_type": "code",
   "execution_count": 6,
   "metadata": {},
   "outputs": [
    {
     "data": {
      "image/png": "[encoded data removed]",
      "text/plain": [
       "<Figure size 432x288 with 1 Axes>"
      ]
     },
     "metadata": {},
     "output_type": "display_data"
    }
   ],
   "source": [
    "# Generate a pie plot showing the distribution of female versus male mice using pandas\n",
    "mouse_data_complete_df.head()\n",
    "\n",
    "mouseid_df = mouse_data_complete_df.groupby([\"Mouse ID\"])\n",
    "mouseid_df.first()\n",
    "mouse_df = mouseid_df.first()\n",
    "gender = mouse_df[\"Sex\"].value_counts()\n",
    "gender.plot.pie()\n",
    "plt.title('Number of Male versus Female Mice')\n",
    "plt.show()\n",
    "\n",
    "\n"
   ]
  },
  {
   "cell_type": "code",
   "execution_count": 7,
   "metadata": {},
   "outputs": [
    {
     "data": {
      "image/png": "[encoded data removed]",
      "text/plain": [
       "<Figure size 432x288 with 1 Axes>"
      ]
     },
     "metadata": {},
     "output_type": "display_data"
    }
   ],
   "source": [
    "# Generate a pie plot showing the distribution of female versus male mice using pyplot\n",
    "\n",
    "labels = 'Male', 'Female'\n",
    "sizes = [125, 124]\n",
    "explode = (0, 0.1)  \n",
    "\n",
    "fig1, ax1 = plt.subplots()\n",
    "ax1.pie(sizes, explode=explode, labels=labels, autopct='%1.1f%%',\n",
    "        shadow=True, startangle=90)\n",
    "ax1.axis('equal') \n",
    "plt.title('Number of Male versus Female Mice')\n",
    "\n",
    "plt.show()"
   ]
  },
  {
   "cell_type": "code",
   "execution_count": 8,
   "metadata": {},
   "outputs": [
    {
     "name": "stdout",
     "output_type": "stream",
     "text": [
      "The lower quartile of final tumor volume for mice treated with Capomulin is: 45.0\n",
      "The upper quartile of final tumor volume for mice treated with Capomulin is: 46.74900552\n",
      "The interquartile range of final tumor volume for mice treated with Capomulin is: 1.7490055199999972\n",
      "The median of final tumor volume for mice treated with Capomulin is: 45.89372032 \n",
      "Values below 42.376491720000004 could be outliers.\n",
      "Values above 49.37251379999999 could be outliers.\n",
      "\n",
      "\n",
      "The lower quartile of final tumor volume for mice treated with Ramicane is: 45.0\n",
      "The upper quartile of final tumor volume for mice treated with Ramicane is: 46.34383237\n",
      "The interquartile range of final tumor volume for mice treated with Ramicane is: 1.3438323700000012\n",
      "The median of final tumor volume for mice treated with Ramicane is: 45.52187471 \n",
      "Values below 42.984251445 could be outliers.\n",
      "Values above 48.359580925 could be outliers.\n",
      "\n",
      "\n",
      "The lower quartile of final tumor volume for mice treated with Infubinol is: 54.04860769\n",
      "The upper quartile of final tumor volume for mice treated with Infubinol is: 65.52574285\n",
      "The interquartile range of final tumor volume for mice treated with Infubinol is: 11.477135160000003\n",
      "The median of final tumor volume for mice treated with Infubinol is: 60.16518046 \n",
      "Values below 36.83290494999999 could be outliers.\n",
      "Values above 82.74144559000001 could be outliers.\n",
      "\n",
      "\n",
      "The lower quartile of final tumor volume for mice treated with Ceftamin is: 48.72207785\n",
      "The upper quartile of final tumor volume for mice treated with Ceftamin is: 64.29983003\n",
      "The interquartile range of final tumor volume for mice treated with Ceftamin is: 15.577752179999997\n",
      "The median of final tumor volume for mice treated with Ceftamin is: 59.85195552 \n",
      "Values below 25.355449580000002 could be outliers.\n",
      "Values above 87.66645829999999 could be outliers.\n"
     ]
    }
   ],
   "source": [
    "# Calculate the final tumor volume of each mouse across four of the most promising treatment regimens. Calculate the IQR and quantitatively determine if there are any potential outliers.\n",
    "\n",
    "greatesttimepoint = mouse_data_complete_df.groupby([\"Mouse ID\"])\n",
    "timepoint = greatesttimepoint.max()\n",
    "timepoint\n",
    "\n",
    "#CAPOMULIN\n",
    "\n",
    "capomulin = timepoint.loc[timepoint[\"Drug Regimen\"] == \"Capomulin\", :]\n",
    "capomulintumorvolume = capomulin[\"Tumor Volume (mm3)\"]\n",
    "capomulintumorvolume\n",
    "\n",
    "capquartiles = capomulintumorvolume.quantile([.25,.5,.75])\n",
    "caplowerq = capquartiles[0.25]\n",
    "capupperq = capquartiles[0.75]\n",
    "capiqr = capupperq-caplowerq\n",
    "\n",
    "print(f\"The lower quartile of final tumor volume for mice treated with Capomulin is: {caplowerq}\")\n",
    "print(f\"The upper quartile of final tumor volume for mice treated with Capomulin is: {capupperq}\")\n",
    "print(f\"The interquartile range of final tumor volume for mice treated with Capomulin is: {capiqr}\")\n",
    "print(f\"The median of final tumor volume for mice treated with Capomulin is: {capquartiles[0.5]} \")\n",
    "\n",
    "caplower_bound = caplowerq - (1.5*capiqr)\n",
    "capupper_bound = capupperq + (1.5*capiqr)\n",
    "print(f\"Values below {caplower_bound} could be outliers.\")\n",
    "print(f\"Values above {capupper_bound} could be outliers.\")\n",
    "print('\\n')\n",
    "\n",
    "#RAMICANE\n",
    "\n",
    "ramicane = timepoint.loc[timepoint[\"Drug Regimen\"] == \"Ramicane\", :]\n",
    "ramicanetumorvolume = ramicane[\"Tumor Volume (mm3)\"]\n",
    "ramicanetumorvolume\n",
    "\n",
    "ramquartiles = ramicanetumorvolume.quantile([.25,.5,.75])\n",
    "ramlowerq = ramquartiles[0.25]\n",
    "ramupperq = ramquartiles[0.75]\n",
    "ramiqr = ramupperq-ramlowerq\n",
    "\n",
    "print(f\"The lower quartile of final tumor volume for mice treated with Ramicane is: {ramlowerq}\")\n",
    "print(f\"The upper quartile of final tumor volume for mice treated with Ramicane is: {ramupperq}\")\n",
    "print(f\"The interquartile range of final tumor volume for mice treated with Ramicane is: {ramiqr}\")\n",
    "print(f\"The median of final tumor volume for mice treated with Ramicane is: {ramquartiles[0.5]} \")\n",
    "\n",
    "ramlower_bound = ramlowerq - (1.5*ramiqr)\n",
    "ramupper_bound = ramupperq + (1.5*ramiqr)\n",
    "print(f\"Values below {ramlower_bound} could be outliers.\")\n",
    "print(f\"Values above {ramupper_bound} could be outliers.\")\n",
    "print('\\n')\n",
    "\n",
    "\n",
    "#Infubinol\n",
    "\n",
    "infubinol = timepoint.loc[timepoint[\"Drug Regimen\"] == \"Infubinol\", :]\n",
    "infubinoltumorvolume = infubinol[\"Tumor Volume (mm3)\"]\n",
    "infubinoltumorvolume\n",
    "\n",
    "infquartiles = infubinoltumorvolume.quantile([.25,.5,.75])\n",
    "inflowerq = infquartiles[0.25]\n",
    "infupperq = infquartiles[0.75]\n",
    "infiqr = infupperq-inflowerq\n",
    "\n",
    "print(f\"The lower quartile of final tumor volume for mice treated with Infubinol is: {inflowerq}\")\n",
    "print(f\"The upper quartile of final tumor volume for mice treated with Infubinol is: {infupperq}\")\n",
    "print(f\"The interquartile range of final tumor volume for mice treated with Infubinol is: {infiqr}\")\n",
    "print(f\"The median of final tumor volume for mice treated with Infubinol is: {infquartiles[0.5]} \")\n",
    "\n",
    "inflower_bound = inflowerq - (1.5*infiqr)\n",
    "infupper_bound = infupperq + (1.5*infiqr)\n",
    "print(f\"Values below {inflower_bound} could be outliers.\")\n",
    "print(f\"Values above {infupper_bound} could be outliers.\")\n",
    "print('\\n')\n",
    "\n",
    "\n",
    "\n",
    "#Ceftamin\n",
    "\n",
    "ceftamin = timepoint.loc[timepoint[\"Drug Regimen\"] == \"Ceftamin\", :]\n",
    "ceftamintumorvolume = ceftamin[\"Tumor Volume (mm3)\"]\n",
    "ceftamintumorvolume\n",
    "\n",
    "cefquartiles = ceftamintumorvolume.quantile([.25,.5,.75])\n",
    "ceflowerq = cefquartiles[0.25]\n",
    "cefupperq = cefquartiles[0.75]\n",
    "cefiqr = cefupperq-ceflowerq\n",
    "\n",
    "print(f\"The lower quartile of final tumor volume for mice treated with Ceftamin is: {ceflowerq}\")\n",
    "print(f\"The upper quartile of final tumor volume for mice treated with Ceftamin is: {cefupperq}\")\n",
    "print(f\"The interquartile range of final tumor volume for mice treated with Ceftamin is: {cefiqr}\")\n",
    "print(f\"The median of final tumor volume for mice treated with Ceftamin is: {cefquartiles[0.5]} \")\n",
    "\n",
    "ceflower_bound = ceflowerq - (1.5*cefiqr)\n",
    "cefupper_bound = cefupperq + (1.5*cefiqr)\n",
    "print(f\"Values below {ceflower_bound} could be outliers.\")\n",
    "print(f\"Values above {cefupper_bound} could be outliers.\")"
   ]
  },
  {
   "cell_type": "code",
   "execution_count": 9,
   "metadata": {},
   "outputs": [
    {
     "data": {
      "image/png": "[encoded data removed]",
      "text/plain": [
       "<Figure size 432x288 with 1 Axes>"
      ]
     },
     "metadata": {
      "needs_background": "light"
     },
     "output_type": "display_data"
    }
   ],
   "source": [
    "#Boxplot with 4 drug regimens of interest combined\n",
    "\n",
    "timedrug = timepoint.sort_values(\"Drug Regimen\")\n",
    "timedrugnew = timedrug.rename(columns={'Drug Regimen': 'Four Regimens of Interest'})\n",
    "#droppingZoniferol\n",
    "indexNames = timedrugnew[timedrugnew ['Four Regimens of Interest'] == 'Zoniferol'].index\n",
    "timedrugnew.drop(indexNames, inplace=True)\n",
    "#dropping Stelasyn\n",
    "stelindexNames = timedrugnew[timedrugnew ['Four Regimens of Interest'] == 'Stelasyn'].index\n",
    "timedrugnew.drop(stelindexNames, inplace=True)\n",
    "#dropping Placebo\n",
    "placeboindexNames = timedrugnew[timedrugnew ['Four Regimens of Interest'] == 'Placebo'].index\n",
    "timedrugnew.drop(placeboindexNames, inplace=True)\n",
    "#dropping Ketapril\n",
    "ketaindexNames = timedrugnew[timedrugnew ['Four Regimens of Interest'] == 'Ketapril'].index\n",
    "timedrugnew.drop(ketaindexNames, inplace=True)\n",
    "#dropping Propriva\n",
    "proindexNames = timedrugnew[timedrugnew ['Four Regimens of Interest'] == 'Propriva'].index\n",
    "timedrugnew.drop(proindexNames, inplace=True)\n",
    "#dropping Naftisol\n",
    "naftindexNames = timedrugnew[timedrugnew ['Four Regimens of Interest'] == 'Naftisol'].index\n",
    "timedrugnew.drop(naftindexNames, inplace=True)\n",
    "timedrugnew\n",
    "\n",
    "finaltumorvolume = timedrugnew['Tumor Volume (mm3)']\n",
    "fig1, ax1 = plt.subplots()\n",
    "ax1.set_title('Mice Treated with Capomulin, Infubinol, Ramicane, or Ceftamin')\n",
    "ax1.set_ylabel('Tumor Volume (mm3)')\n",
    "ax1.boxplot(finaltumorvolume)\n",
    "green_diamond = dict(markerfacecolor='g', marker='D')\n",
    "\n",
    "ax1.boxplot(finaltumorvolume, flierprops=green_diamond)\n",
    "plt.show()"
   ]
  },
  {
   "cell_type": "code",
   "execution_count": 10,
   "metadata": {},
   "outputs": [
    {
     "data": {
      "image/png": "[encoded data removed]",
      "text/plain": [
       "<Figure size 432x288 with 4 Axes>"
      ]
     },
     "metadata": {
      "needs_background": "light"
     },
     "output_type": "display_data"
    }
   ],
   "source": [
    "#Generate a box plot of the final tumor volume of each mouse across four regimens of interest\n",
    "\n",
    "fig, (ax1, ax2, ax3, ax4) = plt.subplots(1,4)\n",
    "\n",
    "ax1.set_title('Capomulin')\n",
    "ax1.set_ylabel('Tumor Volume (mm3)')\n",
    "ax1.boxplot(capomulintumorvolume)\n",
    "green_diamond = dict(markerfacecolor='g', marker='D')\n",
    "ax1.boxplot(capomulintumorvolume, flierprops=green_diamond)\n",
    "\n",
    "ax2.set_title('Infubinol')\n",
    "ax2.set_ylabel('Tumor Volume (mm3)')\n",
    "ax2.boxplot(infubinoltumorvolume)\n",
    "green_diamond = dict(markerfacecolor='g', marker='D')\n",
    "ax2.boxplot(infubinoltumorvolume, flierprops=green_diamond)\n",
    "\n",
    "ax3.set_title('Ramicane')\n",
    "ax3.set_ylabel('Tumor Volume (mm3)')\n",
    "ax3.boxplot(ramicanetumorvolume)\n",
    "green_diamond = dict(markerfacecolor='g', marker='D')\n",
    "ax3.boxplot(ramicanetumorvolume, flierprops=green_diamond)\n",
    "\n",
    "ax4.set_title('Ceftamin')\n",
    "ax4.set_ylabel('Tumor Volume (mm3)')\n",
    "ax4.boxplot(ceftamintumorvolume)\n",
    "green_diamond = dict(markerfacecolor='g', marker='D')\n",
    "ax4.boxplot(ceftamintumorvolume, flierprops=green_diamond)\n",
    "\n",
    "plt.show()"
   ]
  },
  {
   "cell_type": "code",
   "execution_count": 11,
   "metadata": {},
   "outputs": [
    {
     "data": {
      "text/plain": [
       "[<matplotlib.lines.Line2D at 0x20ea8b974c8>]"
      ]
     },
     "execution_count": 11,
     "metadata": {},
     "output_type": "execute_result"
    },
    {
     "data": {
      "image/png": "[encoded data removed]",
      "text/plain": [
       "<Figure size 432x288 with 1 Axes>"
      ]
     },
     "metadata": {
      "needs_background": "light"
     },
     "output_type": "display_data"
    }
   ],
   "source": [
    "# Generate a line plot of time point versus tumor volume for a mouse treated with Capomulin\n",
    "\n",
    "mouse_data_complete_df.head()\n",
    "cap = mouse_data_complete_df.loc[mouse_data_complete_df[\"Drug Regimen\"] == \"Capomulin\", :]\n",
    "capmouse = cap.loc[cap[\"Mouse ID\"] == \"s185\", :]\n",
    "capmouse\n",
    "x_axis = capmouse[\"Timepoint\"]\n",
    "y_axis = capmouse[\"Tumor Volume (mm3)\"]\n",
    "plt.title('Mouse s185 Treated with Capomulin')\n",
    "plt.xlabel(\"Timepoint\")\n",
    "plt.ylabel(\"Tumor Volume (mm3)\")\n",
    "plt.plot(x_axis, y_axis)"
   ]
  },
  {
   "cell_type": "code",
   "execution_count": 12,
   "metadata": {},
   "outputs": [
    {
     "data": {
      "image/png": "[encoded data removed]",
      "text/plain": [
       "<Figure size 432x288 with 1 Axes>"
      ]
     },
     "metadata": {
      "needs_background": "light"
     },
     "output_type": "display_data"
    }
   ],
   "source": [
    "# Generate a scatter plot of mouse weight versus average tumor volume for the Capomulin regimen\n",
    "cap = mouse_data_complete_df.loc[mouse_data_complete_df[\"Drug Regimen\"] == \"Capomulin\", :]\n",
    "capmouseid =  cap.groupby([\"Mouse ID\"]).mean()\n",
    "capmouseid\n",
    "x_axis = capmouseid[\"Weight (g)\"]\n",
    "y_axis = capmouseid[\"Tumor Volume (mm3)\"]\n",
    "plt.scatter(x_axis, y_axis)\n",
    "plt.title('Mice Treated with Capomulin')\n",
    "plt.xlabel(\"Weight (g)\")\n",
    "plt.ylabel(\"Average Tumor Volume (mm3)\")\n",
    "plt.show()\n"
   ]
  },
  {
   "cell_type": "code",
   "execution_count": 13,
   "metadata": {},
   "outputs": [
    {
     "data": {
      "image/png": "[encoded data removed]",
      "text/plain": [
       "<Figure size 432x288 with 1 Axes>"
      ]
     },
     "metadata": {
      "needs_background": "light"
     },
     "output_type": "display_data"
    }
   ],
   "source": [
    "# Calculate the correlation coefficient and linear regression model for mouse weight and average tumor volume for the Capomulin regimen\n",
    "\n",
    "x_values = x_axis\n",
    "y_values = y_axis\n",
    "(slope, intercept, rvalue, pvalue, stderr) = linregress(x_values, y_values)\n",
    "regress_values = x_values * slope + intercept\n",
    "line_eq = \"y = \" + str(round(slope,2)) + \"x + \" + str(round(intercept,2))\n",
    "plt.scatter(x_values,y_values)\n",
    "plt.plot(x_values,regress_values,\"r-\")\n",
    "plt.annotate(line_eq,(6,10),fontsize=15,color=\"red\")\n",
    "plt.title('Mice Treated with Capomulin')\n",
    "plt.xlabel('Weight (g)')\n",
    "plt.ylabel('Average Tumor Volume (mm3)')\n",
    "plt.show()"
   ]
  },
  {
   "cell_type": "code",
   "execution_count": null,
   "metadata": {},
   "outputs": [],
   "source": []
  }
 ],
 "metadata": {
  "kernelspec": {
   "display_name": "Python 3",
   "language": "python",
   "name": "python3"
  },
  "language_info": {
   "codemirror_mode": {
    "name": "ipython",
    "version": 3
   },
   "file_extension": ".py",
   "mimetype": "text/x-python",
   "name": "python",
   "nbconvert_exporter": "python",
   "pygments_lexer": "ipython3",
   "version": "3.7.4"
  }
 },
 "nbformat": 4,
 "nbformat_minor": 2
}
